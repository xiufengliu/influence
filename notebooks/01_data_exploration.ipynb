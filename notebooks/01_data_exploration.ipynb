{
 "cells": [
  {
   "cell_type": "markdown",
   "metadata": {},
   "source": [
    "# Data Exploration for Dynamic Influence-Based Clustering\n",
    "\n",
    "This notebook explores the energy consumption datasets used in the Dynamic Influence-Based Clustering Framework."
   ]
  },
  {
   "cell_type": "code",
   "execution_count": null,
   "metadata": {},
   "source": [
    "import os\n",
    "import sys\n",
    "import numpy as np\n",
    "import pandas as pd\n",
    "import matplotlib.pyplot as plt\n",
    "import seaborn as sns\n",
    "\n",
    "# Add parent directory to path\n",
    "sys.path.append(os.path.dirname(os.path.dirname(os.path.abspath('__file__'))))\n",
    "\n",
    "import config\n",
    "from src.preprocessing.data_loader import DataLoader\n",
    "from src.preprocessing.preprocessor import Preprocessor\n",
    "\n",
    "# Set plotting style\n",
    "plt.style.use('seaborn-whitegrid')\n",
    "sns.set_context(\"notebook\", font_scale=1.2)"
   ]
  },
  {
   "cell_type": "markdown",
   "metadata": {},
   "source": [
    "## Load Datasets\n",
    "\n",
    "We'll load and explore each of the datasets used in the framework."
   ]
  },
  {
   "cell_type": "code",
   "execution_count": null,
   "metadata": {},
   "source": [
    "# List of datasets\n",
    "datasets = [\n",
    "    \"building_genome\",\n",
    "    \"industrial_site1\",\n",
    "    \"industrial_site2\",\n",
    "    \"industrial_site3\"\n",
    "]\n",
    "\n",
    "# Load each dataset\n",
    "data_dict = {}\n",
    "\n",
    "for dataset_name in datasets:\n",
    "    data_loader = DataLoader(dataset_name=dataset_name)\n",
    "    data_dict[dataset_name] = data_loader.load_data()\n",
    "    \n",
    "    print(f\"\\n{dataset_name} dataset loaded with shape {data_dict[dataset_name].shape}\")"
   ]
  },
  {
   "cell_type": "markdown",
   "metadata": {},
   "source": [
    "## Explore Building Genome Dataset"
   ]
  },
  {
   "cell_type": "code",
   "execution_count": null,
   "metadata": {},
   "source": [
    "# Get Building Genome dataset\n",
    "building_data = data_dict[\"building_genome\"]\n",
    "\n",
    "# Display basic information\n",
    "print(\"Building Genome Dataset Information:\")\n",
    "print(f\"Shape: {building_data.shape}\")\n",
    "print(f\"Columns: {building_data.columns.tolist()}\")\n",
    "print(\"\\nSample data:\")\n",
    "building_data.head()"
   ]
  },
  {
   "cell_type": "code",
   "execution_count": null,
   "metadata": {},
   "source": [
    "# Check for missing values\n",
    "missing_values = building_data.isnull().sum()\n",
    "print(\"Missing values:\")\n",
    "missing_values[missing_values > 0]"
   ]
  },
  {
   "cell_type": "code",
   "execution_count": null,
   "metadata": {},
   "source": [
    "# Convert timestamp to datetime if not already\n",
    "if 'timestamp' in building_data.columns and not pd.api.types.is_datetime64_any_dtype(building_data['timestamp']):\n",
    "    building_data['timestamp'] = pd.to_datetime(building_data['timestamp'])\n",
    "\n",
    "# Plot time series for a few buildings\n",
    "building_cols = [col for col in building_data.columns if col.startswith('building_')][:5]  # First 5 buildings\n",
    "\n",
    "plt.figure(figsize=(15, 8))\n",
    "for col in building_cols:\n",
    "    plt.plot(building_data['timestamp'], building_data[col], label=col)\n",
    "\n",
    "plt.title('Energy Consumption for Selected Buildings')\n",
    "plt.xlabel('Time')\n",
    "plt.ylabel('Energy Consumption')\n",
    "plt.legend()\n",
    "plt.tight_layout()\n",
    "plt.show()"
   ]
  },
  {
   "cell_type": "code",
   "execution_count": null,
   "metadata": {},
   "source": [
    "# Plot peak load distribution\n",
    "if 'peak_load' in building_data.columns:\n",
    "    plt.figure(figsize=(10, 6))\n",
    "    sns.countplot(x='peak_load', data=building_data)\n",
    "    plt.title('Peak Load Distribution')\n",
    "    plt.xlabel('Peak Load (0: No, 1: Yes)')\n",
    "    plt.ylabel('Count')\n",
    "    plt.tight_layout()\n",
    "    plt.show()"
   ]
  },
  {
   "cell_type": "markdown",
   "metadata": {},
   "source": [
    "## Explore Industrial Site Datasets"
   ]
  },
  {
   "cell_type": "code",
   "execution_count": null,
   "metadata": {},
   "source": [
    "# Function to explore industrial site data\n",
    "def explore_industrial_site(site_name):\n",
    "    site_data = data_dict[site_name]\n",
    "    \n",
    "    # Display basic information\n",
    "    print(f\"{site_name} Dataset Information:\")\n",
    "    print(f\"Shape: {site_data.shape}\")\n",
    "    print(f\"Columns: {site_data.columns.tolist()}\")\n",
    "    print(\"\\nSample data:\")\n",
    "    display(site_data.head())\n",
    "    \n",
    "    # Check for missing values\n",
    "    missing_values = site_data.isnull().sum()\n",
    "    print(\"\\nMissing values:\")\n",
    "    display(missing_values[missing_values > 0])\n",
    "    \n",
    "    # Convert timestamp to datetime if not already\n",
    "    if 'timestamp' in site_data.columns and not pd.api.types.is_datetime64_any_dtype(site_data['timestamp']):\n",
    "        site_data['timestamp'] = pd.to_datetime(site_data['timestamp'])\n",
    "    \n",
    "    # Plot time series for energy consumption\n",
    "    if 'energy_consumption' in site_data.columns:\n",
    "        plt.figure(figsize=(15, 6))\n",
    "        plt.plot(site_data['timestamp'], site_data['energy_consumption'], marker='o')\n",
    "        plt.title(f'{site_name} Energy Consumption')\n",
    "        plt.xlabel('Time')\n",
    "        plt.ylabel('Energy Consumption')\n",
    "        plt.grid(True)\n",
    "        plt.tight_layout()\n",
    "        plt.show()\n",
    "    \n",
    "    # Plot correlation matrix\n",
    "    numeric_cols = site_data.select_dtypes(include=[np.number]).columns\n",
    "    corr_matrix = site_data[numeric_cols].corr()\n",
    "    \n",
    "    plt.figure(figsize=(12, 10))\n",
    "    sns.heatmap(corr_matrix, annot=True, cmap='coolwarm', fmt='.2f', linewidths=0.5)\n",
    "    plt.title(f'{site_name} Feature Correlation Matrix')\n",
    "    plt.tight_layout()\n",
    "    plt.show()"
   ]
  },
  {
   "cell_type": "code",
   "execution_count": null,
   "metadata": {},
   "source": [
    "# Explore Industrial Site 1\n",
    "explore_industrial_site(\"industrial_site1\")"
   ]
  },
  {
   "cell_type": "code",
   "execution_count": null,
   "metadata": {},
   "source": [
    "# Explore Industrial Site 2\n",
    "explore_industrial_site(\"industrial_site2\")"
   ]
  },
  {
   "cell_type": "code",
   "execution_count": null,
   "metadata": {},
   "source": [
    "# Explore Industrial Site 3\n",
    "explore_industrial_site(\"industrial_site3\")"
   ]
  },
  {
   "cell_type": "markdown",
   "metadata": {},
   "source": [
    "## Preprocess Data\n",
    "\n",
    "Now let's preprocess the data using our framework's preprocessor."
   ]
  },
  {
   "cell_type": "code",
   "execution_count": null,
   "metadata": {},
   "source": [
    "# Function to preprocess and visualize data\n",
    "def preprocess_and_visualize(dataset_name):\n",
    "    data = data_dict[dataset_name]\n",
    "    preprocessor = Preprocessor()\n",
    "    \n",
    "    # Preprocess data\n",
    "    X, y, t, c = preprocessor.preprocess(data)\n",
    "    \n",
    "    print(f\"\\n{dataset_name} Preprocessing Results:\")\n",
    "    print(f\"X shape: {X.shape}\")\n",
    "    print(f\"y shape: {y.shape}\")\n",
    "    print(f\"t shape: {t.shape}\")\n",
    "    print(f\"c shape: {c.shape}\")\n",
    "    \n",
    "    # Visualize feature distributions\n",
    "    plt.figure(figsize=(15, 8))\n",
    "    for i in range(min(X.shape[1], 5)):  # Plot first 5 features\n",
    "        plt.subplot(1, min(X.shape[1], 5), i+1)\n",
    "        sns.histplot(X[:, i], kde=True)\n",
    "        plt.title(f'Feature {i}')\n",
    "    \n",
    "    plt.tight_layout()\n",
    "    plt.show()\n",
    "    \n",
    "    # Visualize target distribution\n",
    "    plt.figure(figsize=(10, 6))\n",
    "    sns.histplot(y, kde=True)\n",
    "    plt.title(f'{dataset_name} Target Distribution')\n",
    "    plt.xlabel('Target Value')\n",
    "    plt.ylabel('Frequency')\n",
    "    plt.tight_layout()\n",
    "    plt.show()\n",
    "    \n",
    "    return X, y, t, c"
   ]
  },
  {
   "cell_type": "code",
   "execution_count": null,
   "metadata": {},
   "source": [
    "# Preprocess and visualize each dataset\n",
    "preprocessed_data = {}\n",
    "\n",
    "for dataset_name in datasets:\n",
    "    print(f\"\\nPreprocessing {dataset_name} dataset...\")\n",
    "    X, y, t, c = preprocess_and_visualize(dataset_name)\n",
    "    preprocessed_data[dataset_name] = (X, y, t, c)"
   ]
  },
  {
   "cell_type": "markdown",
   "metadata": {},
   "source": [
    "## Temporal Patterns\n",
    "\n",
    "Let's explore temporal patterns in the data."
   ]
  },
  {
   "cell_type": "code",
   "execution_count": null,
   "metadata": {},
   "source": [
    "# Function to explore temporal patterns\n",
    "def explore_temporal_patterns(dataset_name):\n",
    "    X, y, t, c = preprocessed_data[dataset_name]\n",
    "    \n",
    "    # Convert to DataFrame for easier manipulation\n",
    "    df = pd.DataFrame({\n",
    "        'timestamp': t,\n",
    "        'target': y\n",
    "    })\n",
    "    \n",
    "    # Add time-based features\n",
    "    if hasattr(df['timestamp'].dt, 'hour'):\n",
    "        df['hour'] = df['timestamp'].dt.hour\n",
    "        df['day'] = df['timestamp'].dt.day\n",
    "        df['month'] = df['timestamp'].dt.month\n",
    "        df['dayofweek'] = df['timestamp'].dt.dayofweek\n",
    "    \n",
    "    # Plot target by hour of day\n",
    "    if 'hour' in df.columns:\n",
    "        plt.figure(figsize=(12, 6))\n",
    "        sns.boxplot(x='hour', y='target', data=df)\n",
    "        plt.title(f'{dataset_name} - Target by Hour of Day')\n",
    "        plt.xlabel('Hour of Day')\n",
    "        plt.ylabel('Target Value')\n",
    "        plt.tight_layout()\n",
    "        plt.show()\n",
    "    \n",
    "    # Plot target by day of week\n",
    "    if 'dayofweek' in df.columns:\n",
    "        plt.figure(figsize=(12, 6))\n",
    "        sns.boxplot(x='dayofweek', y='target', data=df)\n",
    "        plt.title(f'{dataset_name} - Target by Day of Week')\n",
    "        plt.xlabel('Day of Week (0=Monday, 6=Sunday)')\n",
    "        plt.ylabel('Target Value')\n",
    "        plt.tight_layout()\n",
    "        plt.show()\n",
    "    \n",
    "    # Plot target by month\n",
    "    if 'month' in df.columns:\n",
    "        plt.figure(figsize=(12, 6))\n",
    "        sns.boxplot(x='month', y='target', data=df)\n",
    "        plt.title(f'{dataset_name} - Target by Month')\n",
    "        plt.xlabel('Month')\n",
    "        plt.ylabel('Target Value')\n",
    "        plt.tight_layout()\n",
    "        plt.show()"
   ]
  },
  {
   "cell_type": "code",
   "execution_count": null,
   "metadata": {},
   "source": [
    "# Explore temporal patterns for each dataset\n",
    "for dataset_name in datasets:\n",
    "    print(f\"\\nExploring temporal patterns in {dataset_name} dataset...\")\n",
    "    explore_temporal_patterns(dataset_name)"
   ]
  },
  {
   "cell_type": "markdown",
   "metadata": {},
   "source": [
    "## Summary\n",
    "\n",
    "In this notebook, we've explored the energy consumption datasets used in the Dynamic Influence-Based Clustering Framework. We've examined their basic properties, preprocessed them using our framework's utilities, and explored temporal patterns in the data.\n",
    "\n",
    "Key observations:\n",
    "- The Building Genome dataset contains hourly energy consumption data for multiple buildings, with a binary target indicating peak load periods.\n",
    "- The Industrial Site datasets contain quarterly energy consumption data with various features related to electrical and operational parameters.\n",
    "- All datasets exhibit temporal patterns, with variations by hour of day, day of week, and month.\n",
    "- The preprocessing pipeline successfully handles missing values and normalizes features.\n",
    "\n",
    "These insights will inform our approach to influence space transformation and dynamic clustering in the subsequent notebooks."
   ]
  }
 ],
 "metadata": {
  "kernelspec": {
   "display_name": "Python 3",
   "language": "python",
   "name": "python3"
  },
  "language_info": {
   "codemirror_mode": {
    "name": "ipython",
    "version": 3
   },
   "file_extension": ".py",
   "mimetype": "text/x-python",
   "name": "python",
   "nbconvert_exporter": "python",
   "pygments_lexer": "ipython3",
   "version": "3.8.10"
  }
 },
 "nbformat": 4,
 "nbformat_minor": 4
}
